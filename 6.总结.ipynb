{
 "cells": [
  {
   "cell_type": "code",
   "execution_count": 1,
   "metadata": {},
   "outputs": [],
   "source": [
    "import pandas as pd\n",
    "from sklearn.ensemble import RandomForestRegressor\n",
    "from sklearn.metrics import mean_absolute_error\n",
    "from sklearn.model_selection import train_test_split\n",
    "from sklearn.tree import DecisionTreeRegressor"
   ]
  },
  {
   "cell_type": "code",
   "execution_count": 14,
   "metadata": {},
   "outputs": [
    {
     "name": "stdout",
     "output_type": "stream",
     "text": [
      "Validation MAE when not specifying max_leaf_nodes: 256,191\n"
     ]
    }
   ],
   "source": [
    "melb_data = pd.read_csv('melb_data.csv')\n",
    "\n",
    "y = melb_data.Price\n",
    "features= ['Rooms','Distance','Postcode','Bedroom2','Bathroom']\n",
    "X = melb_data[features]\n",
    "\n",
    "# Split into validation and training data\n",
    "train_X, val_X, train_y, val_y = train_test_split(X, y, random_state= 1)\n",
    "\n",
    "#Specify Model\n",
    "melb_model = DecisionTreeRegressor(random_state=1)\n",
    "#fit Model\n",
    "melb_model.fit(train_X, train_y)\n",
    "\n",
    "#Make validation prediction and calculate mean adsolute error\n",
    "melb_predictions = melb_model.predict(val_X)\n",
    "melb_mae = mean_absolute_error(val_y, melb_predictions)\n",
    "print(\"Validation MAE when not specifying max_leaf_nodes: {:,.0f}\".format(melb_mae))"
   ]
  },
  {
   "cell_type": "code",
   "execution_count": null,
   "metadata": {},
   "outputs": [],
   "source": []
  },
  {
   "cell_type": "code",
   "execution_count": 17,
   "metadata": {},
   "outputs": [],
   "source": [
    "def get_mae(max_leaf_nodes, train_X, val_X, train_y, val_y):\n",
    "    model = DecisionTreeRegressor(max_leaf_nodes=max_leaf_nodes, random_state=1)\n",
    "    model.fit(train_X, train_y)\n",
    "    preds_val = model.predict(val_X)\n",
    "    mae = mean_absolute_error(val_y, preds_val)\n",
    "    return(mae)"
   ]
  },
  {
   "cell_type": "code",
   "execution_count": 30,
   "metadata": {},
   "outputs": [
    {
     "name": "stdout",
     "output_type": "stream",
     "text": [
      "max_leaf_nodes: 200 \t mean_absolute_error: 252167\n",
      "max_leaf_nodes: 300 \t mean_absolute_error: 250439\n",
      "max_leaf_nodes: 400 \t mean_absolute_error: 247036\n",
      "max_leaf_nodes: 500 \t mean_absolute_error: 249177\n",
      "max_leaf_nodes: 600 \t mean_absolute_error: 251390\n"
     ]
    }
   ],
   "source": [
    "#Write loop to find the ideal tree size from candidate_max_leaf_nodes\n",
    "canditade_max_leaf_nodes = [200,300, 400, 500, 600]\n",
    "for max_leaf_nodes in canditade_max_leaf_nodes:\n",
    "    my_mae = get_mae(max_leaf_nodes,train_X, val_X, train_y, val_y )\n",
    "    print(\"max_leaf_nodes: %d \\t mean_absolute_error: %d\" %(max_leaf_nodes, my_mae))    "
   ]
  },
  {
   "cell_type": "code",
   "execution_count": null,
   "metadata": {},
   "outputs": [],
   "source": []
  },
  {
   "cell_type": "code",
   "execution_count": 31,
   "metadata": {},
   "outputs": [
    {
     "name": "stdout",
     "output_type": "stream",
     "text": [
      "Validation MAE when specifying max_leaf_nodes= 400 : 256,191\n"
     ]
    }
   ],
   "source": [
    "#Specify Model\n",
    "final_model = DecisionTreeRegressor(max_leaf_nodes=400, random_state=1)\n",
    "#fit Model\n",
    "final_model.fit(train_X, train_y)\n",
    "\n",
    "#Make validation prediction and calculate mean adsolute error\n",
    "final_melb_predictions = melb_model.predict(val_X)\n",
    "final_melb_mae = mean_absolute_error(val_y, melb_predictions)\n",
    "print(\"Validation MAE when specifying max_leaf_nodes= 400 : {:,.0f}\".format(final_melb_mae))"
   ]
  },
  {
   "cell_type": "code",
   "execution_count": null,
   "metadata": {},
   "outputs": [],
   "source": [
    "#思考，结果一样，要是换个test数据呢？"
   ]
  },
  {
   "cell_type": "code",
   "execution_count": null,
   "metadata": {},
   "outputs": [],
   "source": []
  },
  {
   "cell_type": "code",
   "execution_count": 15,
   "metadata": {},
   "outputs": [
    {
     "name": "stderr",
     "output_type": "stream",
     "text": [
      "/Users/liwei/anaconda3/lib/python3.7/site-packages/sklearn/ensemble/forest.py:246: FutureWarning: The default value of n_estimators will change from 10 in version 0.20 to 100 in 0.22.\n",
      "  \"10 in version 0.20 to 100 in 0.22.\", FutureWarning)\n"
     ]
    },
    {
     "data": {
      "text/plain": [
       "RandomForestRegressor(bootstrap=True, criterion='mse', max_depth=None,\n",
       "           max_features='auto', max_leaf_nodes=None,\n",
       "           min_impurity_decrease=0.0, min_impurity_split=None,\n",
       "           min_samples_leaf=1, min_samples_split=2,\n",
       "           min_weight_fraction_leaf=0.0, n_estimators=10, n_jobs=None,\n",
       "           oob_score=False, random_state=1, verbose=0, warm_start=False)"
      ]
     },
     "execution_count": 15,
     "metadata": {},
     "output_type": "execute_result"
    }
   ],
   "source": [
    "# To impove accuracy or\n",
    "melb_model_on_full_data = RandomForestRegressor(random_state= 1)\n",
    "#fit\n",
    "melb_model_on_full_data.fit(X, y)"
   ]
  },
  {
   "cell_type": "code",
   "execution_count": 16,
   "metadata": {},
   "outputs": [
    {
     "name": "stdout",
     "output_type": "stream",
     "text": [
      "Validation MAE when RandomForest: 193,232\n"
     ]
    }
   ],
   "source": [
    "melb_model_on_full_data_pre = melb_model_on_full_data.predict(val_X)\n",
    "melb_mae_F = mean_absolute_error(val_y, melb_model_on_full_data_pre)\n",
    "print(\"Validation MAE when RandomForest: {:,.0f}\".format(melb_mae_F))"
   ]
  },
  {
   "cell_type": "code",
   "execution_count": null,
   "metadata": {},
   "outputs": [],
   "source": []
  }
 ],
 "metadata": {
  "kernelspec": {
   "display_name": "Python 3",
   "language": "python",
   "name": "python3"
  },
  "language_info": {
   "codemirror_mode": {
    "name": "ipython",
    "version": 3
   },
   "file_extension": ".py",
   "mimetype": "text/x-python",
   "name": "python",
   "nbconvert_exporter": "python",
   "pygments_lexer": "ipython3",
   "version": "3.7.1"
  }
 },
 "nbformat": 4,
 "nbformat_minor": 2
}
